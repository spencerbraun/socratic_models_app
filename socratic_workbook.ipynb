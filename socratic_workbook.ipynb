{
 "cells": [
  {
   "cell_type": "code",
   "execution_count": 1,
   "id": "eaeda3e3",
   "metadata": {
    "ExecuteTime": {
     "end_time": "2022-04-23T19:15:27.441116Z",
     "start_time": "2022-04-23T19:15:24.687398Z"
    }
   },
   "outputs": [],
   "source": [
    "import requests\n",
    "from tqdm.auto import tqdm\n",
    "\n",
    "import faiss\n",
    "from PIL import Image\n",
    "from transformers import CLIPProcessor, CLIPModel"
   ]
  },
  {
   "cell_type": "code",
   "execution_count": 2,
   "id": "74b0e725",
   "metadata": {
    "ExecuteTime": {
     "end_time": "2022-04-23T19:15:27.488393Z",
     "start_time": "2022-04-23T19:15:27.482038Z"
    }
   },
   "outputs": [],
   "source": [
    "# %load_ext autoreload\n",
    "# %autoreload 2\n",
    "import embeddings"
   ]
  },
  {
   "cell_type": "markdown",
   "id": "6e0609b0",
   "metadata": {},
   "source": [
    "## Reference Lists"
   ]
  },
  {
   "cell_type": "code",
   "execution_count": 30,
   "id": "d44c0498",
   "metadata": {
    "ExecuteTime": {
     "end_time": "2022-04-23T18:27:35.584572Z",
     "start_time": "2022-04-23T18:27:35.544529Z"
    }
   },
   "outputs": [],
   "source": [
    "\n",
    "req = requests.get(\"https://raw.githubusercontent.com/CSAILVision/places365/master/categories_places365.txt\")\n",
    "places_list = [x.split(' ') for x in req.content.decode('utf-8').split('\\n')]\n",
    "places = [\"_\".join(x[0].split('/')[2:]).replace(\"_\", \" \") for x in places_list]\n",
    "with open(\"places_365.txt\", 'w') as f:\n",
    "    f.write(\"\\n\".join(places))"
   ]
  },
  {
   "cell_type": "code",
   "execution_count": 113,
   "id": "a585f993",
   "metadata": {
    "ExecuteTime": {
     "end_time": "2022-04-23T18:02:34.979365Z",
     "start_time": "2022-04-23T18:02:34.956377Z"
    }
   },
   "outputs": [],
   "source": [
    "oi = []\n",
    "with open(\"2017_11/class-descriptions.csv\") as f:\n",
    "    for line in f:\n",
    "        oi.append(line.strip())\n",
    "        \n",
    "with open('objects_open_images.txt', 'w') as f:\n",
    "    f.write(\"\\n\".join([x.split(',')[-1] for x in oi]))"
   ]
  },
  {
   "cell_type": "code",
   "execution_count": 69,
   "id": "4500d46a",
   "metadata": {
    "ExecuteTime": {
     "end_time": "2022-04-23T17:29:00.296684Z",
     "start_time": "2022-04-23T17:29:00.292680Z"
    }
   },
   "outputs": [],
   "source": []
  },
  {
   "cell_type": "markdown",
   "id": "08e1717d",
   "metadata": {
    "ExecuteTime": {
     "end_time": "2022-04-23T18:07:39.097892Z",
     "start_time": "2022-04-23T18:07:39.094764Z"
    }
   },
   "source": [
    "## Embeddings"
   ]
  },
  {
   "cell_type": "code",
   "execution_count": 3,
   "id": "16a9bb11",
   "metadata": {
    "ExecuteTime": {
     "end_time": "2022-04-23T19:15:48.772962Z",
     "start_time": "2022-04-23T19:15:29.626031Z"
    }
   },
   "outputs": [],
   "source": [
    "model = CLIPModel.from_pretrained(\"openai/clip-vit-large-patch14\")\n",
    "processor = CLIPProcessor.from_pretrained(\"openai/clip-vit-large-patch14\")"
   ]
  },
  {
   "cell_type": "code",
   "execution_count": 5,
   "id": "9b41908b",
   "metadata": {
    "ExecuteTime": {
     "end_time": "2022-04-23T19:15:50.759390Z",
     "start_time": "2022-04-23T19:15:48.921451Z"
    }
   },
   "outputs": [],
   "source": [
    "image = Image.open('n02086240_7268.JPEG')\n",
    "image_inputs = processor(images=image, return_tensors=\"pt\", padding=True)\n",
    "out = model.get_image_features(**image_inputs)"
   ]
  },
  {
   "cell_type": "markdown",
   "id": "49d6fa89",
   "metadata": {},
   "source": [
    "### Places"
   ]
  },
  {
   "cell_type": "code",
   "execution_count": 6,
   "id": "a7819d44",
   "metadata": {
    "ExecuteTime": {
     "end_time": "2022-04-23T18:53:51.664122Z",
     "start_time": "2022-04-23T18:53:51.643914Z"
    }
   },
   "outputs": [],
   "source": [
    "with open(\"places_365.txt\") as f:\n",
    "    places = f.read().split('\\n')"
   ]
  },
  {
   "cell_type": "code",
   "execution_count": 7,
   "id": "a84b66cd",
   "metadata": {
    "ExecuteTime": {
     "end_time": "2022-04-23T18:53:51.785329Z",
     "start_time": "2022-04-23T18:53:51.754025Z"
    }
   },
   "outputs": [],
   "source": [
    "inputs = processor(text=places, return_tensors=\"pt\", padding=True)\n",
    "places_embeddings = model.get_text_features(**inputs)"
   ]
  },
  {
   "cell_type": "code",
   "execution_count": 23,
   "id": "f79632a3",
   "metadata": {
    "ExecuteTime": {
     "end_time": "2022-04-23T18:59:27.643401Z",
     "start_time": "2022-04-23T18:59:27.621339Z"
    }
   },
   "outputs": [],
   "source": [
    "places_index = embeddings.FaissIndex(embedding_size=768, faiss_index_location='faiss_indices/places.index', indexer=faiss.IndexFlatIP)\n",
    "places_index.reset()"
   ]
  },
  {
   "cell_type": "code",
   "execution_count": 24,
   "id": "e091ddc6",
   "metadata": {
    "ExecuteTime": {
     "end_time": "2022-04-23T18:59:30.300657Z",
     "start_time": "2022-04-23T18:59:30.268856Z"
    }
   },
   "outputs": [],
   "source": [
    "places_index.add(places_embeddings.detach().numpy(), places)"
   ]
  },
  {
   "cell_type": "code",
   "execution_count": 25,
   "id": "e6347c2d",
   "metadata": {
    "ExecuteTime": {
     "end_time": "2022-04-23T18:59:31.888083Z",
     "start_time": "2022-04-23T18:59:31.863294Z"
    }
   },
   "outputs": [
    {
     "data": {
      "text/plain": [
       "(array([[0.17297854, 0.15687369, 0.15423924, 0.15403895, 0.15325068,\n",
       "         0.14620401, 0.1395231 , 0.13754925, 0.13722014, 0.13552673]],\n",
       "       dtype=float32),\n",
       " array([[ 50, 346, 201, 173, 261, 303, 208, 155,  63, 221]]),\n",
       " ['beauty salon',\n",
       "  'veterinarians office',\n",
       "  'kennel outdoor',\n",
       "  'hayfield',\n",
       "  'pet shop',\n",
       "  'shower',\n",
       "  'laundromat',\n",
       "  'galley',\n",
       "  'bow window indoor',\n",
       "  'manufactured home'])"
      ]
     },
     "execution_count": 25,
     "metadata": {},
     "output_type": "execute_result"
    }
   ],
   "source": [
    "places_index.search(out.detach().numpy())"
   ]
  },
  {
   "cell_type": "markdown",
   "id": "483ab307",
   "metadata": {},
   "source": [
    "### Objects"
   ]
  },
  {
   "cell_type": "code",
   "execution_count": 6,
   "id": "9346752c",
   "metadata": {
    "ExecuteTime": {
     "end_time": "2022-04-23T19:16:14.182732Z",
     "start_time": "2022-04-23T19:16:14.173408Z"
    }
   },
   "outputs": [],
   "source": [
    "with open(\"objects_open_images.txt\") as f:\n",
    "    objects = f.read().split('\\n')"
   ]
  },
  {
   "cell_type": "code",
   "execution_count": 7,
   "id": "9032cfd1",
   "metadata": {
    "ExecuteTime": {
     "end_time": "2022-04-23T19:16:14.974453Z",
     "start_time": "2022-04-23T19:16:14.967171Z"
    }
   },
   "outputs": [],
   "source": [
    "objects_index = embeddings.FaissIndex(embedding_size=768, faiss_index_location='faiss_indices/objects.index', indexer=faiss.IndexFlatIP)"
   ]
  },
  {
   "cell_type": "code",
   "execution_count": 8,
   "id": "086ea0c7",
   "metadata": {
    "ExecuteTime": {
     "end_time": "2022-04-23T19:16:15.704399Z",
     "start_time": "2022-04-23T19:16:15.700931Z"
    }
   },
   "outputs": [],
   "source": [
    "objects_index.reset()"
   ]
  },
  {
   "cell_type": "code",
   "execution_count": 9,
   "id": "5c4cdcab",
   "metadata": {
    "ExecuteTime": {
     "end_time": "2022-04-23T19:16:16.116715Z",
     "start_time": "2022-04-23T19:16:16.112907Z"
    }
   },
   "outputs": [],
   "source": [
    "batches = list(range(0, len(objects), 300)) + [len(objects)]"
   ]
  },
  {
   "cell_type": "code",
   "execution_count": 11,
   "id": "6a1d9c0e",
   "metadata": {
    "ExecuteTime": {
     "end_time": "2022-04-23T19:16:30.479134Z",
     "start_time": "2022-04-23T19:16:30.474964Z"
    }
   },
   "outputs": [],
   "source": [
    "batched_objects = []\n",
    "for idx in range(0,len(batches)-1):\n",
    "    batched_objects.append(objects[batches[idx]:batches[idx+1]])"
   ]
  },
  {
   "cell_type": "code",
   "execution_count": 12,
   "id": "1ad29b43",
   "metadata": {
    "ExecuteTime": {
     "end_time": "2022-04-23T19:22:07.997665Z",
     "start_time": "2022-04-23T19:16:31.634359Z"
    }
   },
   "outputs": [
    {
     "data": {
      "application/vnd.jupyter.widget-view+json": {
       "model_id": "e727b04536ec48b6a10b93a7a619417e",
       "version_major": 2,
       "version_minor": 0
      },
      "text/plain": [
       "  0%|          | 0/67 [00:00<?, ?it/s]"
      ]
     },
     "metadata": {},
     "output_type": "display_data"
    }
   ],
   "source": [
    "\n",
    "for batch in tqdm(batched_objects):\n",
    "    inputs = processor(text=batch, return_tensors=\"pt\", padding=True)\n",
    "    objects_embeddings = model.get_text_features(**inputs)\n",
    "    objects_index.add(objects_embeddings.detach().numpy(), batch)"
   ]
  },
  {
   "cell_type": "code",
   "execution_count": 13,
   "id": "045d24e5",
   "metadata": {
    "ExecuteTime": {
     "end_time": "2022-04-23T19:22:10.966154Z",
     "start_time": "2022-04-23T19:22:10.932718Z"
    }
   },
   "outputs": [
    {
     "data": {
      "text/plain": [
       "(array([[0.23854859, 0.21685843, 0.21458338, 0.21301872, 0.21031086,\n",
       "         0.20976993, 0.20975675, 0.20324187, 0.19942844, 0.19938366]],\n",
       "       dtype=float32),\n",
       " array([[ 1128,  6936, 11958,  1844, 18549,  8918, 18977,  7881, 10819,\n",
       "         18120]]),\n",
       " ['Chinese crested dog',\n",
       "  'Dandie dinmont terrier',\n",
       "  'Yorkipoo',\n",
       "  'Affenpinscher',\n",
       "  'Plummer terrier',\n",
       "  'Biewer terrier',\n",
       "  'Grooming trimmer',\n",
       "  'Cesky terrier',\n",
       "  'Glen of imaal terrier',\n",
       "  'Shaving and grooming'])"
      ]
     },
     "execution_count": 13,
     "metadata": {},
     "output_type": "execute_result"
    }
   ],
   "source": [
    "objects_index.search(out.detach().numpy())"
   ]
  },
  {
   "cell_type": "code",
   "execution_count": null,
   "id": "f8fd4f25",
   "metadata": {},
   "outputs": [],
   "source": []
  }
 ],
 "metadata": {
  "kernelspec": {
   "display_name": "Python 3 (ipykernel)",
   "language": "python",
   "name": "python3"
  },
  "language_info": {
   "codemirror_mode": {
    "name": "ipython",
    "version": 3
   },
   "file_extension": ".py",
   "mimetype": "text/x-python",
   "name": "python",
   "nbconvert_exporter": "python",
   "pygments_lexer": "ipython3",
   "version": "3.8.11"
  },
  "toc": {
   "base_numbering": 1,
   "nav_menu": {},
   "number_sections": true,
   "sideBar": true,
   "skip_h1_title": false,
   "title_cell": "Table of Contents",
   "title_sidebar": "Contents",
   "toc_cell": false,
   "toc_position": {},
   "toc_section_display": true,
   "toc_window_display": false
  },
  "varInspector": {
   "cols": {
    "lenName": 16,
    "lenType": 16,
    "lenVar": 40
   },
   "kernels_config": {
    "python": {
     "delete_cmd_postfix": "",
     "delete_cmd_prefix": "del ",
     "library": "var_list.py",
     "varRefreshCmd": "print(var_dic_list())"
    },
    "r": {
     "delete_cmd_postfix": ") ",
     "delete_cmd_prefix": "rm(",
     "library": "var_list.r",
     "varRefreshCmd": "cat(var_dic_list()) "
    }
   },
   "types_to_exclude": [
    "module",
    "function",
    "builtin_function_or_method",
    "instance",
    "_Feature"
   ],
   "window_display": false
  }
 },
 "nbformat": 4,
 "nbformat_minor": 5
}
